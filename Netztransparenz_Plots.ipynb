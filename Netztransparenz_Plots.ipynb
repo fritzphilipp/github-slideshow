{
  "nbformat": 4,
  "nbformat_minor": 0,
  "metadata": {
    "colab": {
      "name": "Netztransparenz_Plots.ipynb",
      "provenance": [],
      "mount_file_id": "14Q_evBPDExJx_4Pp4AUEPWNrYirP3-N8",
      "authorship_tag": "ABX9TyOmZa/Y6ZrXCyR5JvWuchcf",
      "include_colab_link": true
    },
    "kernelspec": {
      "name": "python3",
      "display_name": "Python 3"
    },
    "language_info": {
      "name": "python"
    }
  },
  "cells": [
    {
      "cell_type": "markdown",
      "metadata": {
        "id": "view-in-github",
        "colab_type": "text"
      },
      "source": [
        "<a href=\"https://colab.research.google.com/github/fritzphilipp/github-slideshow/blob/master/Netztransparenz_Plots.ipynb\" target=\"_parent\"><img src=\"https://colab.research.google.com/assets/colab-badge.svg\" alt=\"Open In Colab\"/></a>"
      ]
    },
    {
      "cell_type": "code",
      "metadata": {
        "id": "-vViVvtKy--0"
      },
      "source": [
        "import pandas as pd\n",
        "import os\n",
        "import matplotlib.pyplot as plt"
      ],
      "execution_count": 1,
      "outputs": []
    },
    {
      "cell_type": "code",
      "metadata": {
        "id": "Vj77JWgizCYS"
      },
      "source": [
        "df = pd.read_csv('/content/drive/MyDrive/Daten_Plots/Datensatz_Netztransparenz.csv')"
      ],
      "execution_count": 2,
      "outputs": []
    },
    {
      "cell_type": "code",
      "metadata": {
        "id": "Gkp4O-ivzR7a"
      },
      "source": [
        "df_ausgefördert = df[df['Jahr'] >= 2021]"
      ],
      "execution_count": 4,
      "outputs": []
    },
    {
      "cell_type": "code",
      "metadata": {
        "id": "C1TxYIOIzVzv"
      },
      "source": [
        "df_plot = pd.pivot_table(df_ausgefördert, values='Installierte_Leistung', index='Jahr', columns='Energieträger', aggfunc='sum')"
      ],
      "execution_count": 5,
      "outputs": []
    },
    {
      "cell_type": "code",
      "metadata": {
        "id": "jex4_pUTzd8z"
      },
      "source": [
        "df_plot = df_plot[['Solar', 'Biomasse', 'Wind an Land']]"
      ],
      "execution_count": 7,
      "outputs": []
    },
    {
      "cell_type": "code",
      "metadata": {
        "id": "ILKYCCtWzloq"
      },
      "source": [
        "def siM(x):\n",
        "    return x / 1000000"
      ],
      "execution_count": 8,
      "outputs": []
    },
    {
      "cell_type": "code",
      "metadata": {
        "id": "XZf1kRPxznLZ"
      },
      "source": [
        "df_plot['Solar'] = df_plot['Solar'].apply(siM)\n",
        "df_plot['Wind an Land'] = df_plot['Wind an Land'].apply(siM)\n",
        "df_plot['Biomasse'] = df_plot['Biomasse'].apply(siM)"
      ],
      "execution_count": 9,
      "outputs": []
    },
    {
      "cell_type": "code",
      "metadata": {
        "colab": {
          "base_uri": "https://localhost:8080/",
          "height": 297
        },
        "id": "Cf8_yhLGztVl",
        "outputId": "efb3f483-4654-438a-cd32-172a1e893ea0"
      },
      "source": [
        "df_plot.plot.bar(stacked=True, color=['#f7b731','#5dc283','#6992f0'])\n",
        "plt.xlabel('Jahr')\n",
        "plt.ylabel('Leistung in GW')\n",
        "plt.title('Ausgeförderte EE-Anlagen in Deutschland')\n",
        "plt.tight_layout()\n",
        "plt.savefig('Potenzial_Netztransparenz.png', dpi=300)"
      ],
      "execution_count": 31,
      "outputs": [
        {
          "output_type": "display_data",
          "data": {
            "image/png": "[encoded data removed]",
            "text/plain": [
              "<Figure size 432x288 with 1 Axes>"
            ]
          },
          "metadata": {
            "needs_background": "light"
          }
        }
      ]
    },
    {
      "cell_type": "code",
      "metadata": {
        "id": "NJZ-qvAx0TPX"
      },
      "source": [
        "df_bestand = df[df['Jahr'] <= 2020]"
      ],
      "execution_count": 12,
      "outputs": []
    },
    {
      "cell_type": "code",
      "metadata": {
        "id": "45QJOdgf1FsH"
      },
      "source": [
        "df_plot1 = pd.pivot_table(df_bestand, values='Installierte_Leistung', index='Energieträger', aggfunc='sum')"
      ],
      "execution_count": 13,
      "outputs": []
    },
    {
      "cell_type": "code",
      "metadata": {
        "id": "rb1XhCD-1K7p"
      },
      "source": [
        "def siMM(x):\n",
        "    return x / 1000"
      ],
      "execution_count": 14,
      "outputs": []
    },
    {
      "cell_type": "code",
      "metadata": {
        "id": "Yav6p57K1OsF"
      },
      "source": [
        " df_plot1['Installierte_Leistung'] = df_plot1['Installierte_Leistung'].apply(siMM)"
      ],
      "execution_count": 16,
      "outputs": []
    },
    {
      "cell_type": "code",
      "metadata": {
        "colab": {
          "base_uri": "https://localhost:8080/",
          "height": 297
        },
        "id": "b2A8GSvq2bVy",
        "outputId": "89cdd8b9-b975-4998-ac48-e0390587bb07"
      },
      "source": [
        "df_plot1.plot.barh(legend=None)\n",
        "plt.barh(df_plot1.index, df_plot1['Installierte_Leistung'], align='center',color=['#5fc96f', '#f7b731', '#5fa4c9'])\n",
        "plt.xlabel('Leistung in MW')\n",
        "plt.ylabel(None)\n",
        "plt.title('Bestand ausgeförderter EE-Anlagen in Deutschland')\n",
        "plt.tight_layout()\n",
        "plt.savefig('Bestand_Netztransparenz.png', dpi=300)"
      ],
      "execution_count": 30,
      "outputs": [
        {
          "output_type": "display_data",
          "data": {
            "image/png": "[encoded data removed]",
            "text/plain": [
              "<Figure size 432x288 with 1 Axes>"
            ]
          },
          "metadata": {
            "needs_background": "light"
          }
        }
      ]
    }
  ]
}