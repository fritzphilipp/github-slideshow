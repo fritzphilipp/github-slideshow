{
  "nbformat": 4,
  "nbformat_minor": 0,
  "metadata": {
    "colab": {
      "name": "Marktstammdatenregister_Plots.ipynb",
      "provenance": [],
      "authorship_tag": "ABX9TyN0/iQuKFv23Z6kDWfJ2afr",
      "include_colab_link": true
    },
    "kernelspec": {
      "name": "python3",
      "display_name": "Python 3"
    },
    "language_info": {
      "name": "python"
    }
  },
  "cells": [
    {
      "cell_type": "markdown",
      "metadata": {
        "id": "view-in-github",
        "colab_type": "text"
      },
      "source": [
        "<a href=\"https://colab.research.google.com/github/fritzphilipp/github-slideshow/blob/master/Marktstammdatenregister_Plots.ipynb\" target=\"_parent\"><img src=\"https://colab.research.google.com/assets/colab-badge.svg\" alt=\"Open In Colab\"/></a>"
      ]
    },
    {
      "cell_type": "code",
      "metadata": {
        "id": "VPOrq-Gd06pQ"
      },
      "source": [
        "import pandas as pd\n",
        "import os\n",
        "import matplotlib.pyplot as plt"
      ],
      "execution_count": 1,
      "outputs": []
    },
    {
      "cell_type": "code",
      "metadata": {
        "id": "DbTzRVrH7fTv"
      },
      "source": [
        "df = pd.read_csv('/content/drive/MyDrive/Daten_Plots/Datensatz_MStR.csv')"
      ],
      "execution_count": 3,
      "outputs": []
    },
    {
      "cell_type": "code",
      "metadata": {
        "colab": {
          "base_uri": "https://localhost:8080/"
        },
        "id": "IyeqXhEP7jJj",
        "outputId": "f3143aee-3047-4060-f90b-235a9cfa6484"
      },
      "source": [
        "from google.colab import drive\n",
        "drive.mount('/content/drive')"
      ],
      "execution_count": 2,
      "outputs": [
        {
          "output_type": "stream",
          "text": [
            "Mounted at /content/drive\n"
          ],
          "name": "stdout"
        }
      ]
    },
    {
      "cell_type": "code",
      "metadata": {
        "colab": {
          "base_uri": "https://localhost:8080/",
          "height": 204
        },
        "id": "vLmLkmrT7q9T",
        "outputId": "7dc08526-c0f5-49a3-c30c-a6b4b299500b"
      },
      "source": [
        "df.head()"
      ],
      "execution_count": 7,
      "outputs": [
        {
          "output_type": "execute_result",
          "data": {
            "text/html": [
              "<div>\n",
              "<style scoped>\n",
              "    .dataframe tbody tr th:only-of-type {\n",
              "        vertical-align: middle;\n",
              "    }\n",
              "\n",
              "    .dataframe tbody tr th {\n",
              "        vertical-align: top;\n",
              "    }\n",
              "\n",
              "    .dataframe thead th {\n",
              "        text-align: right;\n",
              "    }\n",
              "</style>\n",
              "<table border=\"1\" class=\"dataframe\">\n",
              "  <thead>\n",
              "    <tr style=\"text-align: right;\">\n",
              "      <th></th>\n",
              "      <th>Unnamed: 0</th>\n",
              "      <th>Energieträger</th>\n",
              "      <th>Jahr</th>\n",
              "      <th>Nettonennleistung der Einheit</th>\n",
              "      <th>Bundesland</th>\n",
              "    </tr>\n",
              "  </thead>\n",
              "  <tbody>\n",
              "    <tr>\n",
              "      <th>0</th>\n",
              "      <td>0</td>\n",
              "      <td>Solare Strahlungsenergie</td>\n",
              "      <td>2022</td>\n",
              "      <td>2.380</td>\n",
              "      <td>Baden-Württemberg</td>\n",
              "    </tr>\n",
              "    <tr>\n",
              "      <th>1</th>\n",
              "      <td>1</td>\n",
              "      <td>Solare Strahlungsenergie</td>\n",
              "      <td>2020</td>\n",
              "      <td>1.020</td>\n",
              "      <td>Baden-Württemberg</td>\n",
              "    </tr>\n",
              "    <tr>\n",
              "      <th>2</th>\n",
              "      <td>2</td>\n",
              "      <td>Solare Strahlungsenergie</td>\n",
              "      <td>2021</td>\n",
              "      <td>4.370</td>\n",
              "      <td>Baden-Württemberg</td>\n",
              "    </tr>\n",
              "    <tr>\n",
              "      <th>3</th>\n",
              "      <td>3</td>\n",
              "      <td>Solare Strahlungsenergie</td>\n",
              "      <td>2021</td>\n",
              "      <td>1.035</td>\n",
              "      <td>Baden-Württemberg</td>\n",
              "    </tr>\n",
              "    <tr>\n",
              "      <th>4</th>\n",
              "      <td>4</td>\n",
              "      <td>Solare Strahlungsenergie</td>\n",
              "      <td>2021</td>\n",
              "      <td>14.640</td>\n",
              "      <td>Baden-Württemberg</td>\n",
              "    </tr>\n",
              "  </tbody>\n",
              "</table>\n",
              "</div>"
            ],
            "text/plain": [
              "   Unnamed: 0  ...         Bundesland\n",
              "0           0  ...  Baden-Württemberg\n",
              "1           1  ...  Baden-Württemberg\n",
              "2           2  ...  Baden-Württemberg\n",
              "3           3  ...  Baden-Württemberg\n",
              "4           4  ...  Baden-Württemberg\n",
              "\n",
              "[5 rows x 5 columns]"
            ]
          },
          "metadata": {},
          "execution_count": 7
        }
      ]
    },
    {
      "cell_type": "code",
      "metadata": {
        "id": "EyMYAwzU7zFx"
      },
      "source": [
        "df['Jahr'] = df['Jahr']+20"
      ],
      "execution_count": 5,
      "outputs": []
    },
    {
      "cell_type": "code",
      "metadata": {
        "id": "_BXBHj8N7_0S"
      },
      "source": [
        "df_bestand = df[df['Jahr'] <= 2020]"
      ],
      "execution_count": 9,
      "outputs": []
    },
    {
      "cell_type": "code",
      "metadata": {
        "id": "0GvTqBqq8Lke"
      },
      "source": [
        "df_ausgefördert = df[df['Jahr'] >= 2021]"
      ],
      "execution_count": 10,
      "outputs": []
    },
    {
      "cell_type": "code",
      "metadata": {
        "id": "ZG_sDOz98NBD"
      },
      "source": [
        "df_plot = pd.pivot_table(df_ausgefördert, values='Nettonennleistung der Einheit', index='Jahr', columns='Energieträger', aggfunc='sum')"
      ],
      "execution_count": 11,
      "outputs": []
    },
    {
      "cell_type": "code",
      "metadata": {
        "id": "OgsbgVIK8agO"
      },
      "source": [
        "df_plot = df_plot.drop('Wind', axis =1)"
      ],
      "execution_count": 13,
      "outputs": []
    },
    {
      "cell_type": "code",
      "metadata": {
        "id": "XFVN2T_C86M5"
      },
      "source": [
        "indexNames = df_plot[df_plot['Solare Strahlungsenergie'] <= 0.1].index\n",
        "df_plot.drop(indexNames , inplace=True)"
      ],
      "execution_count": 24,
      "outputs": []
    },
    {
      "cell_type": "code",
      "metadata": {
        "id": "eczupYIe8feG"
      },
      "source": [
        "def si(x):\n",
        "    return x / 1000000"
      ],
      "execution_count": 14,
      "outputs": []
    },
    {
      "cell_type": "code",
      "metadata": {
        "id": "DlCDyjSP8iiC"
      },
      "source": [
        "df_plot['Solare Strahlungsenergie'] = df_plot['Solare Strahlungsenergie'].apply(si)"
      ],
      "execution_count": 15,
      "outputs": []
    },
    {
      "cell_type": "code",
      "metadata": {
        "colab": {
          "base_uri": "https://localhost:8080/",
          "height": 297
        },
        "id": "wwu7odYm8p3l",
        "outputId": "483dd17c-e0d9-4b49-f5a2-3f73a62920c5"
      },
      "source": [
        "df_plot.plot.bar(stacked=True, color=['#f7b731', '#31f731', '#31b8f7'], legend=None)\n",
        "plt.xlabel('Jahr')\n",
        "plt.ylabel('Leistung in GW')\n",
        "plt.title('Ausgeförderte PV-Anlagen Deutschland')\n",
        "plt.tight_layout()\n",
        "plt.savefig('Potenzial_MStR.png', dpi=300)"
      ],
      "execution_count": 27,
      "outputs": [
        {
          "output_type": "display_data",
          "data": {
            "image/png": "[encoded data removed]",
            "text/plain": [
              "<Figure size 432x288 with 1 Axes>"
            ]
          },
          "metadata": {
            "needs_background": "light"
          }
        }
      ]
    },
    {
      "cell_type": "code",
      "metadata": {
        "id": "Cizk9rbT-4fC"
      },
      "source": [
        "df_plot1 = pd.pivot_table(df_bestand, values='Nettonennleistung der Einheit', index='Jahr', columns='Energieträger', aggfunc='sum')"
      ],
      "execution_count": 41,
      "outputs": []
    },
    {
      "cell_type": "code",
      "metadata": {
        "id": "lfKzBH8b-7_5"
      },
      "source": [
        "df_plot1 = df_plot1.drop('Wind', axis =1)"
      ],
      "execution_count": 42,
      "outputs": []
    },
    {
      "cell_type": "code",
      "metadata": {
        "id": "gLfq2tin_2eb"
      },
      "source": [
        "def siM(x):\n",
        "    return x / 1000"
      ],
      "execution_count": 36,
      "outputs": []
    },
    {
      "cell_type": "code",
      "metadata": {
        "id": "v5m4oS-o_3-X"
      },
      "source": [
        "df_plot1['Solare Strahlungsenergie'] = df_plot1['Solare Strahlungsenergie'].apply(siM)"
      ],
      "execution_count": null,
      "outputs": []
    },
    {
      "cell_type": "code",
      "metadata": {
        "id": "z1tImvFCAE_-"
      },
      "source": [
        "df_plot1 = df_plot1.dropna(subset=[\"Solare Strahlungsenergie\"])"
      ],
      "execution_count": 49,
      "outputs": []
    },
    {
      "cell_type": "code",
      "metadata": {
        "colab": {
          "base_uri": "https://localhost:8080/",
          "height": 297
        },
        "id": "6-MF-FkdBQMV",
        "outputId": "6c1ca5ef-0b72-442f-cf48-cb097e3e1247"
      },
      "source": [
        "df_plot1.plot.barh(color=['#f7b731'], legend=None)\n",
        "plt.ylabel('Jahr')\n",
        "plt.xlabel('Leistung in MW')\n",
        "plt.title('Bestand ausgeförderter PV-Anlagen in Deutschland')\n",
        "plt.tight_layout()\n",
        "plt.savefig('Bestand_MStR.png', dpi=300)"
      ],
      "execution_count": 56,
      "outputs": [
        {
          "output_type": "display_data",
          "data": {
            "image/png": "[encoded data removed]",
            "text/plain": [
              "<Figure size 432x288 with 1 Axes>"
            ]
          },
          "metadata": {
            "needs_background": "light"
          }
        }
      ]
    }
  ]
}